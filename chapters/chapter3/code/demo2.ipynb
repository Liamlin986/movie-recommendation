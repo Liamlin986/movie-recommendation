{
  "cells": [
    {
      "cell_type": "markdown",
      "source": [
        "在本教程中，我们将使用 CIFAR10 数据集。它有类： 'airplane'， 'automobile'， 'bird'， 'cat'， 'deer'， 'dog'， 'frog'， 'horse'， 'ship'， 'truck'。CIFAR-10 中的图像尺寸为 3x32x32，即 32x32 像素大小的 3 通道彩色图像。"
      ],
      "metadata": {
        "id": "T8p6PiTybRL-"
      },
      "id": "T8p6PiTybRL-"
    },
    {
      "cell_type": "markdown",
      "source": [
        "![](https://pytorch.org/tutorials/_images/cifar10.png)"
      ],
      "metadata": {
        "id": "VM2l-o8gbEpP"
      },
      "id": "VM2l-o8gbEpP"
    },
    {
      "cell_type": "markdown",
      "source": [
        "#1.训练图像分类器\n",
        "我们将按顺序执行以下步骤：\n",
        "\n",
        "1.使用 torchvision 加载和规范化 CIFAR10 训练和测试数据集\n",
        "\n",
        "2.定义卷积神经网络\n",
        "\n",
        "3.定义损失函数\n",
        "\n",
        "4.在训练数据上训练网络\n",
        "\n",
        "5.在测试数据上测试网络\n",
        "\n",
        "6.在GPU上进行训练\n"
      ],
      "metadata": {
        "id": "WmOQe_HXbXv9"
      },
      "id": "WmOQe_HXbXv9"
    },
    {
      "cell_type": "markdown",
      "source": [
        "## 1. 加载并规范化CIFAR10\n",
        "\n",
        "使用 torchvision，加载 CIFAR10 非常容易。"
      ],
      "metadata": {
        "id": "hwmBE9rTbm02"
      },
      "id": "hwmBE9rTbm02"
    },
    {
      "cell_type": "code",
      "source": [
        "import torch\n",
        "import torchvision\n",
        "import torchvision.transforms as transforms"
      ],
      "metadata": {
        "id": "HtEnAlI9b40K"
      },
      "id": "HtEnAlI9b40K",
      "execution_count": 1,
      "outputs": []
    },
    {
      "cell_type": "markdown",
      "source": [
        "数据集的输出是范围 [0， 1] 的 PILImage 图像。我们将它们转换为归一化范围 [-1， 1] 的 Tensor。"
      ],
      "metadata": {
        "id": "gGomdBvQb7Sb"
      },
      "id": "gGomdBvQb7Sb"
    },
    {
      "cell_type": "code",
      "source": [
        "transform = transforms.Compose(\n",
        "    [transforms.ToTensor(),#将PIL图像的像素值从[0, 255]范围转换为[0,1]范围的浮点数，并将图像顺序从(H,W,C)转化为(C,H,W)\n",
        "     transforms.Normalize((0.5, 0.5, 0.5), (0.5, 0.5, 0.5))])#Compose是一个图像变换操作工具，此对象包含两个操作\n",
        "#将图像或numpy数组转化为tensor张量\n",
        "batch_size = 4\n",
        "\n",
        "trainset = torchvision.datasets.CIFAR10(root='./data', train=True,\n",
        "                                        download=True, transform=transform)#加载并compose操作CIFAR图像\n",
        "trainloader = torch.utils.data.DataLoader(trainset, batch_size=batch_size,\n",
        "                                          shuffle=True, num_workers=2)#数据加载器，用于分批次取数据\n",
        "\n",
        "testset = torchvision.datasets.CIFAR10(root='./data', train=False,\n",
        "                                       download=True, transform=transform)\n",
        "testloader = torch.utils.data.DataLoader(testset, batch_size=batch_size,\n",
        "                                         shuffle=False, num_workers=2)\n",
        "\n",
        "classes = ('plane', 'car', 'bird', 'cat',\n",
        "           'deer', 'dog', 'frog', 'horse', 'ship', 'truck')"
      ],
      "metadata": {
        "colab": {
          "base_uri": "https://localhost:8080/"
        },
        "id": "iCt049RSb9DW",
        "outputId": "b7a41c62-c64d-45dc-a933-a54d23b33ade"
      },
      "id": "iCt049RSb9DW",
      "execution_count": 2,
      "outputs": [
        {
          "output_type": "stream",
          "name": "stdout",
          "text": [
            "Downloading https://www.cs.toronto.edu/~kriz/cifar-10-python.tar.gz to ./data/cifar-10-python.tar.gz\n"
          ]
        },
        {
          "output_type": "stream",
          "name": "stderr",
          "text": [
            "100%|██████████| 170M/170M [00:03<00:00, 49.3MB/s]\n"
          ]
        },
        {
          "output_type": "stream",
          "name": "stdout",
          "text": [
            "Extracting ./data/cifar-10-python.tar.gz to ./data\n",
            "Files already downloaded and verified\n"
          ]
        }
      ]
    },
    {
      "cell_type": "markdown",
      "source": [
        "让我们展示一些训练图像，以便有直觉。"
      ],
      "metadata": {
        "id": "Z5jJprgFcF2C"
      },
      "id": "Z5jJprgFcF2C"
    },
    {
      "cell_type": "code",
      "source": [
        "import matplotlib.pyplot as plt\n",
        "import numpy as np\n",
        "\n",
        "# functions to show an image\n",
        "\n",
        "\n",
        "def imshow(img):\n",
        "    img = img / 2 + 0.5\n",
        "    print(img.shape)   # unnormalize\n",
        "    npimg = img.numpy()\n",
        "    print(img.shape)\n",
        "    plt.imshow(np.transpose(npimg, (1, 2, 0)))\n",
        "    plt.show()\n",
        "\n",
        "\n",
        "# get some random training images\n",
        "dataiter = iter(trainloader)\n",
        "images, labels = next(dataiter)\n",
        "\n",
        "# show images\n",
        "imshow(torchvision.utils.make_grid(images))\n",
        "# print labels\n",
        "print(' '.join(f'{classes[labels[j]]:5s}' for j in range(batch_size)))"
      ],
      "metadata": {
        "colab": {
          "base_uri": "https://localhost:8080/",
          "height": 210
        },
        "id": "M48QOWmlcFq7",
        "outputId": "e854702d-adf6-4e7a-866f-84604f360dd6"
      },
      "id": "M48QOWmlcFq7",
      "execution_count": null,
      "outputs": [
        {
          "output_type": "display_data",
          "data": {
            "text/plain": [
              "<Figure size 640x480 with 1 Axes>"
            ],
            "image/png": "[encoded data removed]"
          },
          "metadata": {}
        },
        {
          "output_type": "stream",
          "name": "stdout",
          "text": [
            "plane frog  cat   car  \n"
          ]
        }
      ]
    },
    {
      "cell_type": "markdown",
      "source": [
        "## 2. 定义卷积神经网络"
      ],
      "metadata": {
        "id": "NQ4D8WtwcNDM"
      },
      "id": "NQ4D8WtwcNDM"
    },
    {
      "cell_type": "code",
      "source": [
        "import torch.nn as nn\n",
        "import torch.nn.functional as F\n",
        "\n",
        "\n",
        "class Net(nn.Module):\n",
        "    def __init__(self):\n",
        "        super().__init__()\n",
        "        self.conv1 = nn.Conv2d(3, 6, 5)\n",
        "        self.pool = nn.MaxPool2d(2, 2)\n",
        "        self.conv2 = nn.Conv2d(6, 16, 5)\n",
        "        self.fc1 = nn.Linear(16 * 5 * 5, 120)\n",
        "        self.fc2 = nn.Linear(120, 84)\n",
        "        self.fc3 = nn.Linear(84, 10)\n",
        "\n",
        "    def forward(self, x):\n",
        "        x = self.pool(F.relu(self.conv1(x)))\n",
        "        x = self.pool(F.relu(self.conv2(x)))\n",
        "        x = torch.flatten(x, 1) # flatten all dimensions except batch\n",
        "        x = F.relu(self.fc1(x))\n",
        "        x = F.relu(self.fc2(x))\n",
        "        x = self.fc3(x)\n",
        "        return x\n",
        "\n",
        "\n",
        "net = Net()"
      ],
      "metadata": {
        "id": "4VMspAS1cTba"
      },
      "id": "4VMspAS1cTba",
      "execution_count": null,
      "outputs": []
    },
    {
      "cell_type": "markdown",
      "source": [
        "## 3. 定义 Loss 函数和优化器\n",
        "\n",
        "让我们使用 Classification Cross-Entropy 损失和带有动量的 SGD。"
      ],
      "metadata": {
        "id": "b1xbGkOzcVfq"
      },
      "id": "b1xbGkOzcVfq"
    },
    {
      "cell_type": "code",
      "source": [
        "import torch.optim as optim\n",
        "\n",
        "criterion = nn.CrossEntropyLoss()\n",
        "optimizer = optim.SGD(net.parameters(), lr=0.001, momentum=0.9)"
      ],
      "metadata": {
        "id": "PSr-XT5Ycbhi"
      },
      "id": "PSr-XT5Ycbhi",
      "execution_count": null,
      "outputs": []
    },
    {
      "cell_type": "markdown",
      "source": [
        "## 4. 训练网络\n",
        "接下来就交给迭代。我们只需要遍历我们的数据迭代器，并将输入馈送到网络并进行优化。"
      ],
      "metadata": {
        "id": "vw9EjlKRcd4C"
      },
      "id": "vw9EjlKRcd4C"
    },
    {
      "cell_type": "code",
      "source": [
        "for epoch in range(2):  # loop over the dataset multiple times\n",
        "\n",
        "    running_loss = 0.0\n",
        "    for i, data in enumerate(trainloader, 0):\n",
        "        # get the inputs; data is a list of [inputs, labels]\n",
        "        inputs, labels = data\n",
        "\n",
        "        # zero the parameter gradients\n",
        "        optimizer.zero_grad()\n",
        "\n",
        "        # forward + backward + optimize\n",
        "        outputs = net(inputs)\n",
        "        loss = criterion(outputs, labels)\n",
        "        loss.backward()\n",
        "        optimizer.step()\n",
        "\n",
        "        # print statistics\n",
        "        running_loss += loss.item()\n",
        "        if i % 2000 == 1999:    # print every 2000 mini-batches\n",
        "            print(f'[{epoch + 1}, {i + 1:5d}] loss: {running_loss / 2000:.3f}')\n",
        "            running_loss = 0.0\n",
        "\n",
        "print('Finished Training')"
      ],
      "metadata": {
        "colab": {
          "base_uri": "https://localhost:8080/"
        },
        "id": "xJ_wccJ-cX8K",
        "outputId": "e3c28d8c-4400-4403-aa92-7cf0e3160cdf"
      },
      "id": "xJ_wccJ-cX8K",
      "execution_count": null,
      "outputs": [
        {
          "output_type": "stream",
          "name": "stdout",
          "text": [
            "[1,  2000] loss: 2.176\n",
            "[1,  4000] loss: 1.858\n",
            "[1,  6000] loss: 1.683\n",
            "[1,  8000] loss: 1.589\n",
            "[1, 10000] loss: 1.525\n",
            "[1, 12000] loss: 1.487\n",
            "[2,  2000] loss: 1.416\n",
            "[2,  4000] loss: 1.389\n",
            "[2,  6000] loss: 1.358\n",
            "[2,  8000] loss: 1.342\n",
            "[2, 10000] loss: 1.332\n",
            "[2, 12000] loss: 1.294\n",
            "Finished Training\n"
          ]
        }
      ]
    },
    {
      "cell_type": "markdown",
      "source": [
        "让我们快速保存经过训练的模型："
      ],
      "metadata": {
        "id": "xrMGcxyhc0oG"
      },
      "id": "xrMGcxyhc0oG"
    },
    {
      "cell_type": "code",
      "source": [
        "PATH = './cifar_net.pth'\n",
        "torch.save(net.state_dict(), PATH)"
      ],
      "metadata": {
        "id": "vHK0qtmWc4bQ"
      },
      "id": "vHK0qtmWc4bQ",
      "execution_count": null,
      "outputs": []
    },
    {
      "cell_type": "markdown",
      "source": [
        "## 5. 在测试数据上测试网络\n",
        "\n",
        "我们已经在训练数据集上训练了网络 2 次。但是我们需要检查网络是否学到了任何东西。\n",
        "\n",
        "我们将通过预测神经网络输出的类标签，并根据真实值进行检查来检查这一点。如果预测正确，我们将样本添加到正确预测列表中。\n",
        "\n",
        "先显示测试数据集"
      ],
      "metadata": {
        "id": "NTw63pA9c7EO"
      },
      "id": "NTw63pA9c7EO"
    },
    {
      "cell_type": "code",
      "source": [
        "dataiter = iter(testloader)\n",
        "images, labels = next(dataiter)\n",
        "\n",
        "# print images\n",
        "imshow(torchvision.utils.make_grid(images))\n",
        "print('GroundTruth: ', ' '.join(f'{classes[labels[j]]:5s}' for j in range(4)))"
      ],
      "metadata": {
        "colab": {
          "base_uri": "https://localhost:8080/",
          "height": 210
        },
        "id": "GS-MsgL5dFL2",
        "outputId": "b0d07323-995c-4c14-a1b9-13031869f521"
      },
      "id": "GS-MsgL5dFL2",
      "execution_count": null,
      "outputs": [
        {
          "output_type": "display_data",
          "data": {
            "text/plain": [
              "<Figure size 640x480 with 1 Axes>"
            ],
            "image/png": "[encoded data removed]"
          },
          "metadata": {}
        },
        {
          "output_type": "stream",
          "name": "stdout",
          "text": [
            "GroundTruth:  cat   ship  ship  plane\n"
          ]
        }
      ]
    },
    {
      "cell_type": "markdown",
      "source": [
        "接下来，让我们重新加载已保存的模型（注意：这里不需要保存和重新加载模型，我们这样做只是为了说明如何做到这一点）："
      ],
      "metadata": {
        "id": "2yTx88tadJQP"
      },
      "id": "2yTx88tadJQP"
    },
    {
      "cell_type": "code",
      "source": [
        "net = Net()\n",
        "net.load_state_dict(torch.load(PATH, weights_only=True))"
      ],
      "metadata": {
        "colab": {
          "base_uri": "https://localhost:8080/"
        },
        "id": "WneRe9b3dKoP",
        "outputId": "34de3480-aa04-4d0c-b4b9-b7a208d5ac48"
      },
      "id": "WneRe9b3dKoP",
      "execution_count": null,
      "outputs": [
        {
          "output_type": "execute_result",
          "data": {
            "text/plain": [
              "<All keys matched successfully>"
            ]
          },
          "metadata": {},
          "execution_count": 10
        }
      ]
    },
    {
      "cell_type": "markdown",
      "source": [
        "好，现在让我们看看神经网络是怎么看上面的这些图像的："
      ],
      "metadata": {
        "id": "NuSA7Wy-dNf2"
      },
      "id": "NuSA7Wy-dNf2"
    },
    {
      "cell_type": "code",
      "source": [
        "outputs = net(images)"
      ],
      "metadata": {
        "id": "gnp3ybr9dWDW"
      },
      "id": "gnp3ybr9dWDW",
      "execution_count": null,
      "outputs": []
    },
    {
      "cell_type": "code",
      "source": [
        "outputs"
      ],
      "metadata": {
        "colab": {
          "base_uri": "https://localhost:8080/"
        },
        "id": "gQBsRPZaeBmX",
        "outputId": "4144c10b-f28c-4670-a8f0-fe0349760686"
      },
      "id": "gQBsRPZaeBmX",
      "execution_count": null,
      "outputs": [
        {
          "output_type": "execute_result",
          "data": {
            "text/plain": [
              "tensor([[-1.0725, -1.6780,  1.1681,  2.2050,  0.9274,  1.7737,  1.0481, -1.0913,\n",
              "         -0.4209, -1.4085],\n",
              "        [ 5.4224,  5.9985, -1.5434, -2.8805, -2.6383, -4.4900, -4.2164, -6.0958,\n",
              "          8.5752,  2.5276],\n",
              "        [ 1.7580,  3.1368, -1.2011, -1.0405, -1.5549, -2.0099, -2.0978, -2.9073,\n",
              "          4.4290,  2.0543],\n",
              "        [ 4.2048,  0.9328, -0.3463, -1.4392, -0.4173, -2.9438, -2.7904, -2.9345,\n",
              "          5.9328,  0.4980]], grad_fn=<AddmmBackward0>)"
            ]
          },
          "metadata": {},
          "execution_count": 13
        }
      ]
    },
    {
      "cell_type": "markdown",
      "source": [
        "输出是 10 个类的能量。类的能量越高，网络就越认为该图像属于特定类。那么，让我们得到最高能量的指数："
      ],
      "metadata": {
        "id": "rKwsbXx4d-2G"
      },
      "id": "rKwsbXx4d-2G"
    },
    {
      "cell_type": "code",
      "source": [
        "_, predicted = torch.max(outputs, 1)\n",
        "\n",
        "print('Predicted: ', ' '.join(f'{classes[predicted[j]]:5s}'\n",
        "                              for j in range(4)))"
      ],
      "metadata": {
        "colab": {
          "base_uri": "https://localhost:8080/"
        },
        "id": "K-XHB_Kbd-h7",
        "outputId": "0b4b8f15-6fbb-43c5-8d99-9f1c294be97a"
      },
      "id": "K-XHB_Kbd-h7",
      "execution_count": null,
      "outputs": [
        {
          "output_type": "stream",
          "name": "stdout",
          "text": [
            "Predicted:  cat   ship  ship  ship \n"
          ]
        }
      ]
    },
    {
      "cell_type": "markdown",
      "source": [
        "让我们看看网络在整个数据集上的表现如何。"
      ],
      "metadata": {
        "id": "Wlo1E0AgeIVb"
      },
      "id": "Wlo1E0AgeIVb"
    },
    {
      "cell_type": "code",
      "source": [
        "correct = 0\n",
        "total = 0\n",
        "# since we're not training, we don't need to calculate the gradients for our outputs\n",
        "with torch.no_grad():\n",
        "    for data in testloader:\n",
        "        images, labels = data\n",
        "        # calculate outputs by running images through the network\n",
        "        outputs = net(images)\n",
        "        # the class with the highest energy is what we choose as prediction\n",
        "        _, predicted = torch.max(outputs.data, 1)\n",
        "        total += labels.size(0)\n",
        "        correct += (predicted == labels).sum().item()\n",
        "\n",
        "print(f'Accuracy of the network on the 10000 test images: {100 * correct // total} %')"
      ],
      "metadata": {
        "colab": {
          "base_uri": "https://localhost:8080/"
        },
        "id": "jQDweHCjeKVb",
        "outputId": "7e4388ac-5f6b-4603-ee13-47919def19fa"
      },
      "id": "jQDweHCjeKVb",
      "execution_count": null,
      "outputs": [
        {
          "output_type": "stream",
          "name": "stdout",
          "text": [
            "Accuracy of the network on the 10000 test images: 54 %\n"
          ]
        }
      ]
    },
    {
      "cell_type": "markdown",
      "source": [
        "表现良好的类有哪些，表现不佳的类有哪些："
      ],
      "metadata": {
        "id": "cp0jPPhjeUOb"
      },
      "id": "cp0jPPhjeUOb"
    },
    {
      "cell_type": "code",
      "source": [
        "# prepare to count predictions for each class\n",
        "correct_pred = {classname: 0 for classname in classes}\n",
        "total_pred = {classname: 0 for classname in classes}\n",
        "\n",
        "# again no gradients needed\n",
        "with torch.no_grad():\n",
        "    for data in testloader:\n",
        "        images, labels = data\n",
        "        outputs = net(images)\n",
        "        _, predictions = torch.max(outputs, 1)\n",
        "        # collect the correct predictions for each class\n",
        "        for label, prediction in zip(labels, predictions):\n",
        "            if label == prediction:\n",
        "                correct_pred[classes[label]] += 1\n",
        "            total_pred[classes[label]] += 1\n",
        "\n",
        "\n",
        "# print accuracy for each class\n",
        "for classname, correct_count in correct_pred.items():\n",
        "    accuracy = 100 * float(correct_count) / total_pred[classname]\n",
        "    print(f'Accuracy for class: {classname:5s} is {accuracy:.1f} %')"
      ],
      "metadata": {
        "colab": {
          "base_uri": "https://localhost:8080/"
        },
        "id": "S8yDvO5oeV87",
        "outputId": "d165cb78-b769-4956-84f4-340d8ba570a6"
      },
      "id": "S8yDvO5oeV87",
      "execution_count": null,
      "outputs": [
        {
          "output_type": "stream",
          "name": "stdout",
          "text": [
            "Accuracy for class: plane is 54.2 %\n",
            "Accuracy for class: car   is 69.9 %\n",
            "Accuracy for class: bird  is 45.9 %\n",
            "Accuracy for class: cat   is 27.9 %\n",
            "Accuracy for class: deer  is 53.6 %\n",
            "Accuracy for class: dog   is 38.7 %\n",
            "Accuracy for class: frog  is 60.0 %\n",
            "Accuracy for class: horse is 57.5 %\n",
            "Accuracy for class: ship  is 85.3 %\n",
            "Accuracy for class: truck is 47.4 %\n"
          ]
        }
      ]
    },
    {
      "cell_type": "markdown",
      "source": [
        "## 在 GPU 上训练"
      ],
      "metadata": {
        "id": "609cuAMfek4D"
      },
      "id": "609cuAMfek4D"
    },
    {
      "cell_type": "markdown",
      "source": [
        "如果我们有可用的 CUDA，让我们首先将我们的设备定义为第一个可见的 cuda 设备："
      ],
      "metadata": {
        "id": "JxGErgMveqju"
      },
      "id": "JxGErgMveqju"
    },
    {
      "cell_type": "code",
      "source": [
        "device = torch.device('cuda:0' if torch.cuda.is_available() else 'cpu')\n",
        "print(device)"
      ],
      "metadata": {
        "colab": {
          "base_uri": "https://localhost:8080/"
        },
        "id": "KK14TR7GeqKj",
        "outputId": "f67640cb-2009-41af-d6bf-625d0670c364"
      },
      "id": "KK14TR7GeqKj",
      "execution_count": null,
      "outputs": [
        {
          "output_type": "stream",
          "name": "stdout",
          "text": [
            "cpu\n"
          ]
        }
      ]
    },
    {
      "cell_type": "markdown",
      "source": [
        "本节的其余部分假定该设备是 CUDA 设备。"
      ],
      "metadata": {
        "id": "cS0ijC5Rewv_"
      },
      "id": "cS0ijC5Rewv_"
    },
    {
      "cell_type": "code",
      "source": [
        "net.to(device)"
      ],
      "metadata": {
        "colab": {
          "base_uri": "https://localhost:8080/"
        },
        "id": "ypKll7MDet6P",
        "outputId": "391cc41a-3f83-4485-bc56-6853ef92e230"
      },
      "id": "ypKll7MDet6P",
      "execution_count": null,
      "outputs": [
        {
          "output_type": "execute_result",
          "data": {
            "text/plain": [
              "Net(\n",
              "  (conv1): Conv2d(3, 6, kernel_size=(5, 5), stride=(1, 1))\n",
              "  (pool): MaxPool2d(kernel_size=2, stride=2, padding=0, dilation=1, ceil_mode=False)\n",
              "  (conv2): Conv2d(6, 16, kernel_size=(5, 5), stride=(1, 1))\n",
              "  (fc1): Linear(in_features=400, out_features=120, bias=True)\n",
              "  (fc2): Linear(in_features=120, out_features=84, bias=True)\n",
              "  (fc3): Linear(in_features=84, out_features=10, bias=True)\n",
              ")"
            ]
          },
          "metadata": {},
          "execution_count": 19
        }
      ]
    },
    {
      "cell_type": "markdown",
      "source": [
        "请记住，还必须在每个步骤中将输入和目标发送到 GPU："
      ],
      "metadata": {
        "id": "Ic3GScoBdTUQ"
      },
      "id": "Ic3GScoBdTUQ"
    },
    {
      "cell_type": "code",
      "source": [
        "inputs, labels = data[0].to(device), data[1].to(device)"
      ],
      "metadata": {
        "id": "b0d4HxC0ez3W"
      },
      "id": "b0d4HxC0ez3W",
      "execution_count": null,
      "outputs": []
    }
  ],
  "metadata": {
    "kernelspec": {
      "display_name": "Python 3",
      "language": "python",
      "name": "python3"
    },
    "language_info": {
      "codemirror_mode": {
        "name": "ipython",
        "version": 3
      },
      "file_extension": ".py",
      "mimetype": "text/x-python",
      "name": "python",
      "nbconvert_exporter": "python",
      "pygments_lexer": "ipython3",
      "version": "3.7.10"
    },
    "colab": {
      "provenance": []
    }
  },
  "nbformat": 4,
  "nbformat_minor": 5
}